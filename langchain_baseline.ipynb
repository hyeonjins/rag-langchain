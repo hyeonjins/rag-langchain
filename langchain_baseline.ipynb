{
  "nbformat": 4,
  "nbformat_minor": 0,
  "metadata": {
    "colab": {
      "provenance": []
    },
    "kernelspec": {
      "name": "python3",
      "display_name": "Python 3"
    },
    "language_info": {
      "name": "python"
    }
  },
  "cells": [
    {
      "cell_type": "code",
      "source": [
        "%pip install cohere tiktoken"
      ],
      "metadata": {
        "colab": {
          "base_uri": "https://localhost:8080/"
        },
        "id": "nNJVjBDoO2m_",
        "outputId": "656cc5af-12e3-475f-c2a7-14a6d1283841"
      },
      "execution_count": 1,
      "outputs": [
        {
          "output_type": "stream",
          "name": "stdout",
          "text": [
            "Collecting cohere\n",
            "  Downloading cohere-4.47-py3-none-any.whl (52 kB)\n",
            "\u001b[2K     \u001b[90m━━━━━━━━━━━━━━━━━━━━━━━━━━━━━━━━━━━━━━━━\u001b[0m \u001b[32m52.3/52.3 kB\u001b[0m \u001b[31m1.8 MB/s\u001b[0m eta \u001b[36m0:00:00\u001b[0m\n",
            "\u001b[?25hCollecting tiktoken\n",
            "  Downloading tiktoken-0.6.0-cp310-cp310-manylinux_2_17_x86_64.manylinux2014_x86_64.whl (1.8 MB)\n",
            "\u001b[2K     \u001b[90m━━━━━━━━━━━━━━━━━━━━━━━━━━━━━━━━━━━━━━━━\u001b[0m \u001b[32m1.8/1.8 MB\u001b[0m \u001b[31m26.5 MB/s\u001b[0m eta \u001b[36m0:00:00\u001b[0m\n",
            "\u001b[?25hRequirement already satisfied: aiohttp<4.0,>=3.0 in /usr/local/lib/python3.10/dist-packages (from cohere) (3.9.3)\n",
            "Collecting backoff<3.0,>=2.0 (from cohere)\n",
            "  Downloading backoff-2.2.1-py3-none-any.whl (15 kB)\n",
            "Collecting fastavro<2.0,>=1.8 (from cohere)\n",
            "  Downloading fastavro-1.9.4-cp310-cp310-manylinux_2_17_x86_64.manylinux2014_x86_64.whl (3.1 MB)\n",
            "\u001b[2K     \u001b[90m━━━━━━━━━━━━━━━━━━━━━━━━━━━━━━━━━━━━━━━━\u001b[0m \u001b[32m3.1/3.1 MB\u001b[0m \u001b[31m38.2 MB/s\u001b[0m eta \u001b[36m0:00:00\u001b[0m\n",
            "\u001b[?25hCollecting importlib_metadata<7.0,>=6.0 (from cohere)\n",
            "  Downloading importlib_metadata-6.11.0-py3-none-any.whl (23 kB)\n",
            "Requirement already satisfied: requests<3.0.0,>=2.25.0 in /usr/local/lib/python3.10/dist-packages (from cohere) (2.31.0)\n",
            "Requirement already satisfied: urllib3<3,>=1.26 in /usr/local/lib/python3.10/dist-packages (from cohere) (2.0.7)\n",
            "Requirement already satisfied: regex>=2022.1.18 in /usr/local/lib/python3.10/dist-packages (from tiktoken) (2023.12.25)\n",
            "Requirement already satisfied: aiosignal>=1.1.2 in /usr/local/lib/python3.10/dist-packages (from aiohttp<4.0,>=3.0->cohere) (1.3.1)\n",
            "Requirement already satisfied: attrs>=17.3.0 in /usr/local/lib/python3.10/dist-packages (from aiohttp<4.0,>=3.0->cohere) (23.2.0)\n",
            "Requirement already satisfied: frozenlist>=1.1.1 in /usr/local/lib/python3.10/dist-packages (from aiohttp<4.0,>=3.0->cohere) (1.4.1)\n",
            "Requirement already satisfied: multidict<7.0,>=4.5 in /usr/local/lib/python3.10/dist-packages (from aiohttp<4.0,>=3.0->cohere) (6.0.5)\n",
            "Requirement already satisfied: yarl<2.0,>=1.0 in /usr/local/lib/python3.10/dist-packages (from aiohttp<4.0,>=3.0->cohere) (1.9.4)\n",
            "Requirement already satisfied: async-timeout<5.0,>=4.0 in /usr/local/lib/python3.10/dist-packages (from aiohttp<4.0,>=3.0->cohere) (4.0.3)\n",
            "Requirement already satisfied: zipp>=0.5 in /usr/local/lib/python3.10/dist-packages (from importlib_metadata<7.0,>=6.0->cohere) (3.17.0)\n",
            "Requirement already satisfied: charset-normalizer<4,>=2 in /usr/local/lib/python3.10/dist-packages (from requests<3.0.0,>=2.25.0->cohere) (3.3.2)\n",
            "Requirement already satisfied: idna<4,>=2.5 in /usr/local/lib/python3.10/dist-packages (from requests<3.0.0,>=2.25.0->cohere) (3.6)\n",
            "Requirement already satisfied: certifi>=2017.4.17 in /usr/local/lib/python3.10/dist-packages (from requests<3.0.0,>=2.25.0->cohere) (2024.2.2)\n",
            "Installing collected packages: importlib_metadata, fastavro, backoff, tiktoken, cohere\n",
            "  Attempting uninstall: importlib_metadata\n",
            "    Found existing installation: importlib-metadata 7.0.1\n",
            "    Uninstalling importlib-metadata-7.0.1:\n",
            "      Successfully uninstalled importlib-metadata-7.0.1\n",
            "\u001b[31mERROR: pip's dependency resolver does not currently take into account all the packages that are installed. This behaviour is the source of the following dependency conflicts.\n",
            "llmx 0.0.15a0 requires openai, which is not installed.\u001b[0m\u001b[31m\n",
            "\u001b[0mSuccessfully installed backoff-2.2.1 cohere-4.47 fastavro-1.9.4 importlib_metadata-6.11.0 tiktoken-0.6.0\n"
          ]
        }
      ]
    },
    {
      "cell_type": "code",
      "execution_count": 2,
      "metadata": {
        "colab": {
          "base_uri": "https://localhost:8080/"
        },
        "id": "LZrw9mdQm3Bw",
        "outputId": "4658c667-c131-41b6-f5b7-8da1e02e630d"
      },
      "outputs": [
        {
          "output_type": "stream",
          "name": "stdout",
          "text": [
            "\u001b[2K     \u001b[90m━━━━━━━━━━━━━━━━━━━━━━━━━━━━━━━━━━━━━━━━\u001b[0m \u001b[32m226.7/226.7 kB\u001b[0m \u001b[31m3.7 MB/s\u001b[0m eta \u001b[36m0:00:00\u001b[0m\n",
            "\u001b[2K     \u001b[90m━━━━━━━━━━━━━━━━━━━━━━━━━━━━━━━━━━━━━━━━\u001b[0m \u001b[32m815.9/815.9 kB\u001b[0m \u001b[31m8.8 MB/s\u001b[0m eta \u001b[36m0:00:00\u001b[0m\n",
            "\u001b[2K     \u001b[90m━━━━━━━━━━━━━━━━━━━━━━━━━━━━━━━━━━━━━━━━\u001b[0m \u001b[32m284.0/284.0 kB\u001b[0m \u001b[31m9.8 MB/s\u001b[0m eta \u001b[36m0:00:00\u001b[0m\n",
            "\u001b[2K     \u001b[90m━━━━━━━━━━━━━━━━━━━━━━━━━━━━━━━━━━━━━━━━\u001b[0m \u001b[32m75.9/75.9 kB\u001b[0m \u001b[31m7.3 MB/s\u001b[0m eta \u001b[36m0:00:00\u001b[0m\n",
            "\u001b[2K     \u001b[90m━━━━━━━━━━━━━━━━━━━━━━━━━━━━━━━━━━━━━━━━\u001b[0m \u001b[32m1.7/1.7 MB\u001b[0m \u001b[31m12.6 MB/s\u001b[0m eta \u001b[36m0:00:00\u001b[0m\n",
            "\u001b[2K     \u001b[90m━━━━━━━━━━━━━━━━━━━━━━━━━━━━━━━━━━━━━━━━\u001b[0m \u001b[32m241.2/241.2 kB\u001b[0m \u001b[31m13.4 MB/s\u001b[0m eta \u001b[36m0:00:00\u001b[0m\n",
            "\u001b[2K     \u001b[90m━━━━━━━━━━━━━━━━━━━━━━━━━━━━━━━━━━━━━━━━\u001b[0m \u001b[32m56.5/56.5 kB\u001b[0m \u001b[31m5.7 MB/s\u001b[0m eta \u001b[36m0:00:00\u001b[0m\n",
            "\u001b[2K     \u001b[90m━━━━━━━━━━━━━━━━━━━━━━━━━━━━━━━━━━━━━━━━\u001b[0m \u001b[32m49.4/49.4 kB\u001b[0m \u001b[31m5.2 MB/s\u001b[0m eta \u001b[36m0:00:00\u001b[0m\n",
            "\u001b[2K     \u001b[90m━━━━━━━━━━━━━━━━━━━━━━━━━━━━━━━━━━━━━━━━\u001b[0m \u001b[32m77.0/77.0 kB\u001b[0m \u001b[31m7.9 MB/s\u001b[0m eta \u001b[36m0:00:00\u001b[0m\n",
            "\u001b[2K     \u001b[90m━━━━━━━━━━━━━━━━━━━━━━━━━━━━━━━━━━━━━━━━\u001b[0m \u001b[32m58.3/58.3 kB\u001b[0m \u001b[31m4.0 MB/s\u001b[0m eta \u001b[36m0:00:00\u001b[0m\n",
            "\u001b[2K     \u001b[90m━━━━━━━━━━━━━━━━━━━━━━━━━━━━━━━━━━━━━━━━\u001b[0m \u001b[32m55.4/55.4 kB\u001b[0m \u001b[31m6.3 MB/s\u001b[0m eta \u001b[36m0:00:00\u001b[0m\n",
            "\u001b[?25h"
          ]
        }
      ],
      "source": [
        "%pip install -q openai langchain langchainhub pypdf"
      ]
    },
    {
      "cell_type": "code",
      "source": [
        "%pip install chromadb"
      ],
      "metadata": {
        "colab": {
          "base_uri": "https://localhost:8080/"
        },
        "id": "wrre45WDQhNG",
        "outputId": "9a6c9a20-92d6-463b-cd51-63122db8f2ef"
      },
      "execution_count": 16,
      "outputs": [
        {
          "output_type": "stream",
          "name": "stdout",
          "text": [
            "Collecting chromadb\n",
            "  Downloading chromadb-0.4.22-py3-none-any.whl (509 kB)\n",
            "\u001b[2K     \u001b[90m━━━━━━━━━━━━━━━━━━━━━━━━━━━━━━━━━━━━━━━━\u001b[0m \u001b[32m509.0/509.0 kB\u001b[0m \u001b[31m6.4 MB/s\u001b[0m eta \u001b[36m0:00:00\u001b[0m\n",
            "\u001b[?25hRequirement already satisfied: build>=1.0.3 in /usr/local/lib/python3.10/dist-packages (from chromadb) (1.0.3)\n",
            "Requirement already satisfied: requests>=2.28 in /usr/local/lib/python3.10/dist-packages (from chromadb) (2.31.0)\n",
            "Requirement already satisfied: pydantic>=1.9 in /usr/local/lib/python3.10/dist-packages (from chromadb) (2.6.1)\n",
            "Collecting chroma-hnswlib==0.7.3 (from chromadb)\n",
            "  Downloading chroma_hnswlib-0.7.3-cp310-cp310-manylinux_2_17_x86_64.manylinux2014_x86_64.whl (2.4 MB)\n",
            "\u001b[2K     \u001b[90m━━━━━━━━━━━━━━━━━━━━━━━━━━━━━━━━━━━━━━━━\u001b[0m \u001b[32m2.4/2.4 MB\u001b[0m \u001b[31m12.8 MB/s\u001b[0m eta \u001b[36m0:00:00\u001b[0m\n",
            "\u001b[?25hCollecting fastapi>=0.95.2 (from chromadb)\n",
            "  Downloading fastapi-0.109.2-py3-none-any.whl (92 kB)\n",
            "\u001b[2K     \u001b[90m━━━━━━━━━━━━━━━━━━━━━━━━━━━━━━━━━━━━━━━━\u001b[0m \u001b[32m92.1/92.1 kB\u001b[0m \u001b[31m10.8 MB/s\u001b[0m eta \u001b[36m0:00:00\u001b[0m\n",
            "\u001b[?25hCollecting uvicorn[standard]>=0.18.3 (from chromadb)\n",
            "  Downloading uvicorn-0.27.1-py3-none-any.whl (60 kB)\n",
            "\u001b[2K     \u001b[90m━━━━━━━━━━━━━━━━━━━━━━━━━━━━━━━━━━━━━━━━\u001b[0m \u001b[32m60.8/60.8 kB\u001b[0m \u001b[31m7.4 MB/s\u001b[0m eta \u001b[36m0:00:00\u001b[0m\n",
            "\u001b[?25hRequirement already satisfied: numpy>=1.22.5 in /usr/local/lib/python3.10/dist-packages (from chromadb) (1.25.2)\n",
            "Collecting posthog>=2.4.0 (from chromadb)\n",
            "  Downloading posthog-3.4.1-py2.py3-none-any.whl (41 kB)\n",
            "\u001b[2K     \u001b[90m━━━━━━━━━━━━━━━━━━━━━━━━━━━━━━━━━━━━━━━━\u001b[0m \u001b[32m41.1/41.1 kB\u001b[0m \u001b[31m4.1 MB/s\u001b[0m eta \u001b[36m0:00:00\u001b[0m\n",
            "\u001b[?25hRequirement already satisfied: typing-extensions>=4.5.0 in /usr/local/lib/python3.10/dist-packages (from chromadb) (4.9.0)\n",
            "Collecting pulsar-client>=3.1.0 (from chromadb)\n",
            "  Downloading pulsar_client-3.4.0-cp310-cp310-manylinux_2_17_x86_64.manylinux2014_x86_64.whl (5.4 MB)\n",
            "\u001b[2K     \u001b[90m━━━━━━━━━━━━━━━━━━━━━━━━━━━━━━━━━━━━━━━━\u001b[0m \u001b[32m5.4/5.4 MB\u001b[0m \u001b[31m23.7 MB/s\u001b[0m eta \u001b[36m0:00:00\u001b[0m\n",
            "\u001b[?25hCollecting onnxruntime>=1.14.1 (from chromadb)\n",
            "  Downloading onnxruntime-1.17.0-cp310-cp310-manylinux_2_27_x86_64.manylinux_2_28_x86_64.whl (6.8 MB)\n",
            "\u001b[2K     \u001b[90m━━━━━━━━━━━━━━━━━━━━━━━━━━━━━━━━━━━━━━━━\u001b[0m \u001b[32m6.8/6.8 MB\u001b[0m \u001b[31m40.7 MB/s\u001b[0m eta \u001b[36m0:00:00\u001b[0m\n",
            "\u001b[?25hCollecting opentelemetry-api>=1.2.0 (from chromadb)\n",
            "  Downloading opentelemetry_api-1.22.0-py3-none-any.whl (57 kB)\n",
            "\u001b[2K     \u001b[90m━━━━━━━━━━━━━━━━━━━━━━━━━━━━━━━━━━━━━━━━\u001b[0m \u001b[32m57.9/57.9 kB\u001b[0m \u001b[31m3.3 MB/s\u001b[0m eta \u001b[36m0:00:00\u001b[0m\n",
            "\u001b[?25hCollecting opentelemetry-exporter-otlp-proto-grpc>=1.2.0 (from chromadb)\n",
            "  Downloading opentelemetry_exporter_otlp_proto_grpc-1.22.0-py3-none-any.whl (18 kB)\n",
            "Collecting opentelemetry-instrumentation-fastapi>=0.41b0 (from chromadb)\n",
            "  Downloading opentelemetry_instrumentation_fastapi-0.43b0-py3-none-any.whl (11 kB)\n",
            "Collecting opentelemetry-sdk>=1.2.0 (from chromadb)\n",
            "  Downloading opentelemetry_sdk-1.22.0-py3-none-any.whl (105 kB)\n",
            "\u001b[2K     \u001b[90m━━━━━━━━━━━━━━━━━━━━━━━━━━━━━━━━━━━━━━━━\u001b[0m \u001b[32m105.6/105.6 kB\u001b[0m \u001b[31m11.4 MB/s\u001b[0m eta \u001b[36m0:00:00\u001b[0m\n",
            "\u001b[?25hRequirement already satisfied: tokenizers>=0.13.2 in /usr/local/lib/python3.10/dist-packages (from chromadb) (0.15.2)\n",
            "Collecting pypika>=0.48.9 (from chromadb)\n",
            "  Downloading PyPika-0.48.9.tar.gz (67 kB)\n",
            "\u001b[2K     \u001b[90m━━━━━━━━━━━━━━━━━━━━━━━━━━━━━━━━━━━━━━━━\u001b[0m \u001b[32m67.3/67.3 kB\u001b[0m \u001b[31m7.0 MB/s\u001b[0m eta \u001b[36m0:00:00\u001b[0m\n",
            "\u001b[?25h  Installing build dependencies ... \u001b[?25l\u001b[?25hdone\n",
            "  Getting requirements to build wheel ... \u001b[?25l\u001b[?25hdone\n",
            "  Preparing metadata (pyproject.toml) ... \u001b[?25l\u001b[?25hdone\n",
            "Requirement already satisfied: tqdm>=4.65.0 in /usr/local/lib/python3.10/dist-packages (from chromadb) (4.66.2)\n",
            "Collecting overrides>=7.3.1 (from chromadb)\n",
            "  Downloading overrides-7.7.0-py3-none-any.whl (17 kB)\n",
            "Requirement already satisfied: importlib-resources in /usr/local/lib/python3.10/dist-packages (from chromadb) (6.1.1)\n",
            "Requirement already satisfied: grpcio>=1.58.0 in /usr/local/lib/python3.10/dist-packages (from chromadb) (1.60.1)\n",
            "Collecting bcrypt>=4.0.1 (from chromadb)\n",
            "  Downloading bcrypt-4.1.2-cp39-abi3-manylinux_2_28_x86_64.whl (698 kB)\n",
            "\u001b[2K     \u001b[90m━━━━━━━━━━━━━━━━━━━━━━━━━━━━━━━━━━━━━━━━\u001b[0m \u001b[32m698.9/698.9 kB\u001b[0m \u001b[31m51.6 MB/s\u001b[0m eta \u001b[36m0:00:00\u001b[0m\n",
            "\u001b[?25hRequirement already satisfied: typer>=0.9.0 in /usr/local/lib/python3.10/dist-packages (from chromadb) (0.9.0)\n",
            "Collecting kubernetes>=28.1.0 (from chromadb)\n",
            "  Downloading kubernetes-29.0.0-py2.py3-none-any.whl (1.6 MB)\n",
            "\u001b[2K     \u001b[90m━━━━━━━━━━━━━━━━━━━━━━━━━━━━━━━━━━━━━━━━\u001b[0m \u001b[32m1.6/1.6 MB\u001b[0m \u001b[31m38.8 MB/s\u001b[0m eta \u001b[36m0:00:00\u001b[0m\n",
            "\u001b[?25hRequirement already satisfied: tenacity>=8.2.3 in /usr/local/lib/python3.10/dist-packages (from chromadb) (8.2.3)\n",
            "Requirement already satisfied: PyYAML>=6.0.0 in /usr/local/lib/python3.10/dist-packages (from chromadb) (6.0.1)\n",
            "Collecting mmh3>=4.0.1 (from chromadb)\n",
            "  Downloading mmh3-4.1.0-cp310-cp310-manylinux_2_5_x86_64.manylinux1_x86_64.manylinux_2_17_x86_64.manylinux2014_x86_64.whl (67 kB)\n",
            "\u001b[2K     \u001b[90m━━━━━━━━━━━━━━━━━━━━━━━━━━━━━━━━━━━━━━━━\u001b[0m \u001b[32m67.6/67.6 kB\u001b[0m \u001b[31m7.7 MB/s\u001b[0m eta \u001b[36m0:00:00\u001b[0m\n",
            "\u001b[?25hRequirement already satisfied: packaging>=19.0 in /usr/local/lib/python3.10/dist-packages (from build>=1.0.3->chromadb) (23.2)\n",
            "Requirement already satisfied: pyproject_hooks in /usr/local/lib/python3.10/dist-packages (from build>=1.0.3->chromadb) (1.0.0)\n",
            "Requirement already satisfied: tomli>=1.1.0 in /usr/local/lib/python3.10/dist-packages (from build>=1.0.3->chromadb) (2.0.1)\n",
            "Collecting starlette<0.37.0,>=0.36.3 (from fastapi>=0.95.2->chromadb)\n",
            "  Downloading starlette-0.36.3-py3-none-any.whl (71 kB)\n",
            "\u001b[2K     \u001b[90m━━━━━━━━━━━━━━━━━━━━━━━━━━━━━━━━━━━━━━━━\u001b[0m \u001b[32m71.5/71.5 kB\u001b[0m \u001b[31m7.7 MB/s\u001b[0m eta \u001b[36m0:00:00\u001b[0m\n",
            "\u001b[?25hRequirement already satisfied: certifi>=14.05.14 in /usr/local/lib/python3.10/dist-packages (from kubernetes>=28.1.0->chromadb) (2024.2.2)\n",
            "Requirement already satisfied: six>=1.9.0 in /usr/local/lib/python3.10/dist-packages (from kubernetes>=28.1.0->chromadb) (1.16.0)\n",
            "Requirement already satisfied: python-dateutil>=2.5.3 in /usr/local/lib/python3.10/dist-packages (from kubernetes>=28.1.0->chromadb) (2.8.2)\n",
            "Requirement already satisfied: google-auth>=1.0.1 in /usr/local/lib/python3.10/dist-packages (from kubernetes>=28.1.0->chromadb) (2.27.0)\n",
            "Requirement already satisfied: websocket-client!=0.40.0,!=0.41.*,!=0.42.*,>=0.32.0 in /usr/local/lib/python3.10/dist-packages (from kubernetes>=28.1.0->chromadb) (1.7.0)\n",
            "Requirement already satisfied: requests-oauthlib in /usr/local/lib/python3.10/dist-packages (from kubernetes>=28.1.0->chromadb) (1.3.1)\n",
            "Requirement already satisfied: oauthlib>=3.2.2 in /usr/local/lib/python3.10/dist-packages (from kubernetes>=28.1.0->chromadb) (3.2.2)\n",
            "Requirement already satisfied: urllib3>=1.24.2 in /usr/local/lib/python3.10/dist-packages (from kubernetes>=28.1.0->chromadb) (2.0.7)\n",
            "Collecting coloredlogs (from onnxruntime>=1.14.1->chromadb)\n",
            "  Downloading coloredlogs-15.0.1-py2.py3-none-any.whl (46 kB)\n",
            "\u001b[2K     \u001b[90m━━━━━━━━━━━━━━━━━━━━━━━━━━━━━━━━━━━━━━━━\u001b[0m \u001b[32m46.0/46.0 kB\u001b[0m \u001b[31m5.5 MB/s\u001b[0m eta \u001b[36m0:00:00\u001b[0m\n",
            "\u001b[?25hRequirement already satisfied: flatbuffers in /usr/local/lib/python3.10/dist-packages (from onnxruntime>=1.14.1->chromadb) (23.5.26)\n",
            "Requirement already satisfied: protobuf in /usr/local/lib/python3.10/dist-packages (from onnxruntime>=1.14.1->chromadb) (3.20.3)\n",
            "Requirement already satisfied: sympy in /usr/local/lib/python3.10/dist-packages (from onnxruntime>=1.14.1->chromadb) (1.12)\n",
            "Collecting deprecated>=1.2.6 (from opentelemetry-api>=1.2.0->chromadb)\n",
            "  Downloading Deprecated-1.2.14-py2.py3-none-any.whl (9.6 kB)\n",
            "Requirement already satisfied: importlib-metadata<7.0,>=6.0 in /usr/local/lib/python3.10/dist-packages (from opentelemetry-api>=1.2.0->chromadb) (6.11.0)\n",
            "Requirement already satisfied: backoff<3.0.0,>=1.10.0 in /usr/local/lib/python3.10/dist-packages (from opentelemetry-exporter-otlp-proto-grpc>=1.2.0->chromadb) (2.2.1)\n",
            "Requirement already satisfied: googleapis-common-protos~=1.52 in /usr/local/lib/python3.10/dist-packages (from opentelemetry-exporter-otlp-proto-grpc>=1.2.0->chromadb) (1.62.0)\n",
            "Collecting opentelemetry-exporter-otlp-proto-common==1.22.0 (from opentelemetry-exporter-otlp-proto-grpc>=1.2.0->chromadb)\n",
            "  Downloading opentelemetry_exporter_otlp_proto_common-1.22.0-py3-none-any.whl (17 kB)\n",
            "Collecting opentelemetry-proto==1.22.0 (from opentelemetry-exporter-otlp-proto-grpc>=1.2.0->chromadb)\n",
            "  Downloading opentelemetry_proto-1.22.0-py3-none-any.whl (50 kB)\n",
            "\u001b[2K     \u001b[90m━━━━━━━━━━━━━━━━━━━━━━━━━━━━━━━━━━━━━━━━\u001b[0m \u001b[32m50.8/50.8 kB\u001b[0m \u001b[31m6.0 MB/s\u001b[0m eta \u001b[36m0:00:00\u001b[0m\n",
            "\u001b[?25hCollecting opentelemetry-instrumentation-asgi==0.43b0 (from opentelemetry-instrumentation-fastapi>=0.41b0->chromadb)\n",
            "  Downloading opentelemetry_instrumentation_asgi-0.43b0-py3-none-any.whl (14 kB)\n",
            "Collecting opentelemetry-instrumentation==0.43b0 (from opentelemetry-instrumentation-fastapi>=0.41b0->chromadb)\n",
            "  Downloading opentelemetry_instrumentation-0.43b0-py3-none-any.whl (28 kB)\n",
            "Collecting opentelemetry-semantic-conventions==0.43b0 (from opentelemetry-instrumentation-fastapi>=0.41b0->chromadb)\n",
            "  Downloading opentelemetry_semantic_conventions-0.43b0-py3-none-any.whl (36 kB)\n",
            "Collecting opentelemetry-util-http==0.43b0 (from opentelemetry-instrumentation-fastapi>=0.41b0->chromadb)\n",
            "  Downloading opentelemetry_util_http-0.43b0-py3-none-any.whl (6.9 kB)\n",
            "Requirement already satisfied: setuptools>=16.0 in /usr/local/lib/python3.10/dist-packages (from opentelemetry-instrumentation==0.43b0->opentelemetry-instrumentation-fastapi>=0.41b0->chromadb) (67.7.2)\n",
            "Requirement already satisfied: wrapt<2.0.0,>=1.0.0 in /usr/local/lib/python3.10/dist-packages (from opentelemetry-instrumentation==0.43b0->opentelemetry-instrumentation-fastapi>=0.41b0->chromadb) (1.14.1)\n",
            "Collecting asgiref~=3.0 (from opentelemetry-instrumentation-asgi==0.43b0->opentelemetry-instrumentation-fastapi>=0.41b0->chromadb)\n",
            "  Downloading asgiref-3.7.2-py3-none-any.whl (24 kB)\n",
            "Collecting monotonic>=1.5 (from posthog>=2.4.0->chromadb)\n",
            "  Downloading monotonic-1.6-py2.py3-none-any.whl (8.2 kB)\n",
            "Requirement already satisfied: annotated-types>=0.4.0 in /usr/local/lib/python3.10/dist-packages (from pydantic>=1.9->chromadb) (0.6.0)\n",
            "Requirement already satisfied: pydantic-core==2.16.2 in /usr/local/lib/python3.10/dist-packages (from pydantic>=1.9->chromadb) (2.16.2)\n",
            "Requirement already satisfied: charset-normalizer<4,>=2 in /usr/local/lib/python3.10/dist-packages (from requests>=2.28->chromadb) (3.3.2)\n",
            "Requirement already satisfied: idna<4,>=2.5 in /usr/local/lib/python3.10/dist-packages (from requests>=2.28->chromadb) (3.6)\n",
            "Requirement already satisfied: huggingface_hub<1.0,>=0.16.4 in /usr/local/lib/python3.10/dist-packages (from tokenizers>=0.13.2->chromadb) (0.20.3)\n",
            "Requirement already satisfied: click<9.0.0,>=7.1.1 in /usr/local/lib/python3.10/dist-packages (from typer>=0.9.0->chromadb) (8.1.7)\n",
            "Requirement already satisfied: h11>=0.8 in /usr/local/lib/python3.10/dist-packages (from uvicorn[standard]>=0.18.3->chromadb) (0.14.0)\n",
            "Collecting httptools>=0.5.0 (from uvicorn[standard]>=0.18.3->chromadb)\n",
            "  Downloading httptools-0.6.1-cp310-cp310-manylinux_2_5_x86_64.manylinux1_x86_64.manylinux_2_17_x86_64.manylinux2014_x86_64.whl (341 kB)\n",
            "\u001b[2K     \u001b[90m━━━━━━━━━━━━━━━━━━━━━━━━━━━━━━━━━━━━━━━━\u001b[0m \u001b[32m341.4/341.4 kB\u001b[0m \u001b[31m30.3 MB/s\u001b[0m eta \u001b[36m0:00:00\u001b[0m\n",
            "\u001b[?25hCollecting python-dotenv>=0.13 (from uvicorn[standard]>=0.18.3->chromadb)\n",
            "  Downloading python_dotenv-1.0.1-py3-none-any.whl (19 kB)\n",
            "Collecting uvloop!=0.15.0,!=0.15.1,>=0.14.0 (from uvicorn[standard]>=0.18.3->chromadb)\n",
            "  Downloading uvloop-0.19.0-cp310-cp310-manylinux_2_17_x86_64.manylinux2014_x86_64.whl (3.4 MB)\n",
            "\u001b[2K     \u001b[90m━━━━━━━━━━━━━━━━━━━━━━━━━━━━━━━━━━━━━━━━\u001b[0m \u001b[32m3.4/3.4 MB\u001b[0m \u001b[31m47.3 MB/s\u001b[0m eta \u001b[36m0:00:00\u001b[0m\n",
            "\u001b[?25hCollecting watchfiles>=0.13 (from uvicorn[standard]>=0.18.3->chromadb)\n",
            "  Downloading watchfiles-0.21.0-cp310-cp310-manylinux_2_17_x86_64.manylinux2014_x86_64.whl (1.3 MB)\n",
            "\u001b[2K     \u001b[90m━━━━━━━━━━━━━━━━━━━━━━━━━━━━━━━━━━━━━━━━\u001b[0m \u001b[32m1.3/1.3 MB\u001b[0m \u001b[31m51.5 MB/s\u001b[0m eta \u001b[36m0:00:00\u001b[0m\n",
            "\u001b[?25hCollecting websockets>=10.4 (from uvicorn[standard]>=0.18.3->chromadb)\n",
            "  Downloading websockets-12.0-cp310-cp310-manylinux_2_5_x86_64.manylinux1_x86_64.manylinux_2_17_x86_64.manylinux2014_x86_64.whl (130 kB)\n",
            "\u001b[2K     \u001b[90m━━━━━━━━━━━━━━━━━━━━━━━━━━━━━━━━━━━━━━━━\u001b[0m \u001b[32m130.2/130.2 kB\u001b[0m \u001b[31m14.6 MB/s\u001b[0m eta \u001b[36m0:00:00\u001b[0m\n",
            "\u001b[?25hRequirement already satisfied: cachetools<6.0,>=2.0.0 in /usr/local/lib/python3.10/dist-packages (from google-auth>=1.0.1->kubernetes>=28.1.0->chromadb) (5.3.2)\n",
            "Requirement already satisfied: pyasn1-modules>=0.2.1 in /usr/local/lib/python3.10/dist-packages (from google-auth>=1.0.1->kubernetes>=28.1.0->chromadb) (0.3.0)\n",
            "Requirement already satisfied: rsa<5,>=3.1.4 in /usr/local/lib/python3.10/dist-packages (from google-auth>=1.0.1->kubernetes>=28.1.0->chromadb) (4.9)\n",
            "Requirement already satisfied: filelock in /usr/local/lib/python3.10/dist-packages (from huggingface_hub<1.0,>=0.16.4->tokenizers>=0.13.2->chromadb) (3.13.1)\n",
            "Requirement already satisfied: fsspec>=2023.5.0 in /usr/local/lib/python3.10/dist-packages (from huggingface_hub<1.0,>=0.16.4->tokenizers>=0.13.2->chromadb) (2023.6.0)\n",
            "Requirement already satisfied: zipp>=0.5 in /usr/local/lib/python3.10/dist-packages (from importlib-metadata<7.0,>=6.0->opentelemetry-api>=1.2.0->chromadb) (3.17.0)\n",
            "Requirement already satisfied: anyio<5,>=3.4.0 in /usr/local/lib/python3.10/dist-packages (from starlette<0.37.0,>=0.36.3->fastapi>=0.95.2->chromadb) (3.7.1)\n",
            "Collecting humanfriendly>=9.1 (from coloredlogs->onnxruntime>=1.14.1->chromadb)\n",
            "  Downloading humanfriendly-10.0-py2.py3-none-any.whl (86 kB)\n",
            "\u001b[2K     \u001b[90m━━━━━━━━━━━━━━━━━━━━━━━━━━━━━━━━━━━━━━━━\u001b[0m \u001b[32m86.8/86.8 kB\u001b[0m \u001b[31m10.2 MB/s\u001b[0m eta \u001b[36m0:00:00\u001b[0m\n",
            "\u001b[?25hRequirement already satisfied: mpmath>=0.19 in /usr/local/lib/python3.10/dist-packages (from sympy->onnxruntime>=1.14.1->chromadb) (1.3.0)\n",
            "Requirement already satisfied: sniffio>=1.1 in /usr/local/lib/python3.10/dist-packages (from anyio<5,>=3.4.0->starlette<0.37.0,>=0.36.3->fastapi>=0.95.2->chromadb) (1.3.0)\n",
            "Requirement already satisfied: exceptiongroup in /usr/local/lib/python3.10/dist-packages (from anyio<5,>=3.4.0->starlette<0.37.0,>=0.36.3->fastapi>=0.95.2->chromadb) (1.2.0)\n",
            "Requirement already satisfied: pyasn1<0.6.0,>=0.4.6 in /usr/local/lib/python3.10/dist-packages (from pyasn1-modules>=0.2.1->google-auth>=1.0.1->kubernetes>=28.1.0->chromadb) (0.5.1)\n",
            "Building wheels for collected packages: pypika\n",
            "  Building wheel for pypika (pyproject.toml) ... \u001b[?25l\u001b[?25hdone\n",
            "  Created wheel for pypika: filename=PyPika-0.48.9-py2.py3-none-any.whl size=53723 sha256=421f0ec46ebdb8c7221915be79661ddb7f9b8a8f41062f4ffd73c5f0eb183413\n",
            "  Stored in directory: /root/.cache/pip/wheels/e1/26/51/d0bffb3d2fd82256676d7ad3003faea3bd6dddc9577af665f4\n",
            "Successfully built pypika\n",
            "Installing collected packages: pypika, monotonic, mmh3, websockets, uvloop, uvicorn, python-dotenv, pulsar-client, overrides, opentelemetry-util-http, opentelemetry-semantic-conventions, opentelemetry-proto, humanfriendly, httptools, deprecated, chroma-hnswlib, bcrypt, asgiref, watchfiles, starlette, posthog, opentelemetry-exporter-otlp-proto-common, opentelemetry-api, coloredlogs, opentelemetry-sdk, opentelemetry-instrumentation, onnxruntime, kubernetes, fastapi, opentelemetry-instrumentation-asgi, opentelemetry-exporter-otlp-proto-grpc, opentelemetry-instrumentation-fastapi, chromadb\n",
            "\u001b[31mERROR: pip's dependency resolver does not currently take into account all the packages that are installed. This behaviour is the source of the following dependency conflicts.\n",
            "lida 0.0.10 requires kaleido, which is not installed.\n",
            "lida 0.0.10 requires python-multipart, which is not installed.\u001b[0m\u001b[31m\n",
            "\u001b[0mSuccessfully installed asgiref-3.7.2 bcrypt-4.1.2 chroma-hnswlib-0.7.3 chromadb-0.4.22 coloredlogs-15.0.1 deprecated-1.2.14 fastapi-0.109.2 httptools-0.6.1 humanfriendly-10.0 kubernetes-29.0.0 mmh3-4.1.0 monotonic-1.6 onnxruntime-1.17.0 opentelemetry-api-1.22.0 opentelemetry-exporter-otlp-proto-common-1.22.0 opentelemetry-exporter-otlp-proto-grpc-1.22.0 opentelemetry-instrumentation-0.43b0 opentelemetry-instrumentation-asgi-0.43b0 opentelemetry-instrumentation-fastapi-0.43b0 opentelemetry-proto-1.22.0 opentelemetry-sdk-1.22.0 opentelemetry-semantic-conventions-0.43b0 opentelemetry-util-http-0.43b0 overrides-7.7.0 posthog-3.4.1 pulsar-client-3.4.0 pypika-0.48.9 python-dotenv-1.0.1 starlette-0.36.3 uvicorn-0.27.1 uvloop-0.19.0 watchfiles-0.21.0 websockets-12.0\n"
          ]
        }
      ]
    },
    {
      "cell_type": "code",
      "source": [
        "import os\n",
        "\n",
        "os.environ[\"OPENAI_API_KEY\"] = ''"
      ],
      "metadata": {
        "id": "iN5QkukMm4CC"
      },
      "execution_count": 11,
      "outputs": []
    },
    {
      "cell_type": "code",
      "source": [
        "from langchain.document_loaders import PyPDFLoader\n",
        "from langchain.vectorstores import Chroma\n",
        "from langchain.chat_models import ChatOpenAI\n",
        "from langchain.embeddings.openai import OpenAIEmbeddings\n",
        "from langchain.text_splitter import RecursiveCharacterTextSplitter\n",
        "from langchain.chains import RetrievalQA, ConversationalRetrievalChain"
      ],
      "metadata": {
        "id": "XgqHTAS1PItn"
      },
      "execution_count": 22,
      "outputs": []
    },
    {
      "cell_type": "code",
      "source": [
        "# Load a PDF file, using the LangChain PyPDF loader\n",
        "loader = PyPDFLoader(\"/content/drive/MyDrive/프로젝트/정책학회/data/2022.pdf\")"
      ],
      "metadata": {
        "id": "pApdyMj-PYiX"
      },
      "execution_count": 23,
      "outputs": []
    },
    {
      "cell_type": "code",
      "source": [
        "# Split the text in chunks, using LangChain Recursive Character Text Splitter\n",
        "text_splitter = RecursiveCharacterTextSplitter(\n",
        "    chunk_size=1000,\n",
        "    chunk_overlap=200\n",
        "    )\n",
        "\n",
        "pages = loader.load_and_split(text_splitter)"
      ],
      "metadata": {
        "id": "AYs_NaqjPyME"
      },
      "execution_count": 24,
      "outputs": []
    },
    {
      "cell_type": "code",
      "source": [
        "pages[0].page_content"
      ],
      "metadata": {
        "colab": {
          "base_uri": "https://localhost:8080/",
          "height": 53
        },
        "id": "ubBktEUDPzx0",
        "outputId": "67923101-8b2e-4d1e-ac3b-fa287b9380b1"
      },
      "execution_count": 25,
      "outputs": [
        {
          "output_type": "execute_result",
          "data": {
            "text/plain": [
              "'2022\\n개인정보  \\n분쟁조정 사례집2022\\n개인정보  \\n분쟁조정 사례집www.kopico.go.kr 발간등록번호\\n11-1790365-000020-10'"
            ],
            "application/vnd.google.colaboratory.intrinsic+json": {
              "type": "string"
            }
          },
          "metadata": {},
          "execution_count": 25
        }
      ]
    },
    {
      "cell_type": "code",
      "source": [
        "pages[0].metadata"
      ],
      "metadata": {
        "colab": {
          "base_uri": "https://localhost:8080/"
        },
        "id": "JaPozU4HP2MD",
        "outputId": "fbdd6917-199a-4dd0-d444-551f8c428bfe"
      },
      "execution_count": 26,
      "outputs": [
        {
          "output_type": "execute_result",
          "data": {
            "text/plain": [
              "{'source': '/content/drive/MyDrive/프로젝트/정책학회/data/2022.pdf',\n",
              " 'page': 0}"
            ]
          },
          "metadata": {},
          "execution_count": 26
        }
      ]
    },
    {
      "cell_type": "code",
      "source": [
        "# Create a persistent, file-based vector store, using Chroma vector store.\n",
        "directory = '/content/drive/MyDrive/프로젝트/정책학회/'\n",
        "vector_index = Chroma.from_documents(\n",
        "    pages, # Documents\n",
        "    OpenAIEmbeddings(), # Text embedding model\n",
        "    persist_directory=directory # persists the vectors to the file system\n",
        "    )\n",
        "\n",
        "vector_index.persist()"
      ],
      "metadata": {
        "id": "hSLNIovvP4D0"
      },
      "execution_count": 27,
      "outputs": []
    },
    {
      "cell_type": "code",
      "source": [
        "# Create the retriever and the query-interface.\n",
        "retriever = vector_index.as_retriever(\n",
        "    search_type=\"similarity\", # Cosine Similarity\n",
        "    search_kwargs={\n",
        "        \"k\": 3, # Select top k search results\n",
        "    }\n",
        ")"
      ],
      "metadata": {
        "id": "5qCqGZIGQCk6"
      },
      "execution_count": 28,
      "outputs": []
    },
    {
      "cell_type": "code",
      "source": [
        "retriever.get_relevant_documents(\"인터넷 상에서 개인정보침해를 당했어.\")"
      ],
      "metadata": {
        "colab": {
          "base_uri": "https://localhost:8080/"
        },
        "id": "dD7eSHC5T1Mw",
        "outputId": "8d7763ce-fdd7-498e-963e-a1460510f653"
      },
      "execution_count": 29,
      "outputs": [
        {
          "output_type": "execute_result",
          "data": {
            "text/plain": [
              "[Document(page_content='외로 이용하여 개인정보 보호법을 위반하였다고 주장하며, 피신청인에게 손해배상 및 \\n재발방지 조치를 요구하는 내용으로 개인정보 분쟁조정을 신청하였다. \\n   \\n     이에 대해 피신청인은 ① 신청인이 제보메일에서 스스로를 마스크 검사를 의뢰했던  \\n‘업체’라고 소개하고 있어 당시에는 개인정보로 인식하지 못한 상태로 제보내용의 \\n진위여부 확인차원에서 신청인의 이메일 주소를 인터넷 검색 사이트에서 단순검색한 \\n것에 불과하며, ② 신청인의 이메일 주소가 인터넷 쇼핑몰에 판매자 정보로 공개되어 \\n있었던 점 등을 고려할 때, 피신청인의 이 사건 이용행위는 「개인정보 보호법」 제15조 \\n제3항에 따른 개인정보의 추가 이용에 해당하므로, 개인정보 보호법 위반사항이 \\n없다고 주장한다.', metadata={'page': 62, 'source': '/content/drive/MyDrive/프로젝트/정책학회/data/2022.pdf'}),\n",
              " Document(page_content='개인정보가 제3자에게 실제 열람되거나 접근되지 아니한 상태라면, 정보통신서비스 \\n제공자의 기술적ㆍ관리적 보호조치에 미흡한 점이 있어서 제3자가 인터넷상 특정 \\n사이트를 통해 정보통신서비스 제공자가 보관하고 있는 개인정보에 접근할 수 \\n있는 상태에 놓여 있었다고 하더라도 그것만으로 바로 개인정보가 정보통신서비스 \\n제공자의 관리ㆍ통제권을 벗어나 제3자가 내용을 알 수 있는 상태에 이르게 되었다고 \\n할 수는 없다고 판시하였다(대법원 2014. 5. 16. 선고, 2011다24555 판결).\\n     즉,‘개인정보의 유출’이란 개인정보가 해당 개인정보처리자의 관리ㆍ통제권을 \\n벗어나 당해 개인정보를 모르는 제3자가 그 내용을 알 수 있는 상태에 이르게 된 것을 \\n의미한다고 볼 수 있다.\\n     이 사건 팝업창에 표시되었다고 주장되는 신청인의 주민등록번호는 신청인이 직접 \\n금융인증서를 통해 이 사건 앱에 로그인한 후 신청인의 개인 스마트폰에 나타난 \\n것으로, 이러한 사실만으로는 피신청인이 신청인의 개인정보에 대해 통제를 상실', metadata={'page': 110, 'source': '/content/drive/MyDrive/프로젝트/정책학회/data/2022.pdf'}),\n",
              " Document(page_content='2022\\t\\n개인정보\\t분쟁조정\\t사례집\\n158\\n이벤트에 참여하면서 제공한 개인정보가 인터넷에 노출된 것에 \\n대한 손해배상 등 요구Ⅳ. 개인정보보호 기술적·관리적·물리적 조치 미비\\n사례\\nⅣ-3\\n1. 사건개요\\n      피신청인은 가전제품 유통업을 영위하는 회사이며, 신청인은 피신청인이 진행한 \\n이벤트에 참여한 자이다.\\n      신청인은 자신의 개인정보가 노출된 상태로 게시판에 남아 있는다는 사실을 알게 \\n되자, 피신청인에게 손해배상 등을 요구하였다.\\n      피신청인은 노출된 개인정보를 신속히 삭제하였고, 신청인이 이벤트 참여 시 홈페  \\n이지의 등록게시판이 아닌 Q&A게시판에 글을 올린 점 등의 과실이 있어 손해배상은 \\n부담할 수 없다고 답변하였다.\\n      신청인은 자신의 성명·전자우편 등을 인터넷에 노출한 것에 대하여 손해배상 등을 \\n요구하는 분쟁조정을 신청하였다. \\n2. 합의결과\\n      피신청인이 개인정보 노출에 대하여 합의금을 지급하는 것으로 합의를 제안하였고, \\n신청인이 이를 받아들여 조정 전 합의로 사건을 종결하였다.', metadata={'page': 163, 'source': '/content/drive/MyDrive/프로젝트/정책학회/data/2022.pdf'})]"
            ]
          },
          "metadata": {},
          "execution_count": 29
        }
      ]
    },
    {
      "cell_type": "code",
      "source": [
        "# Create the chain for allowing us to chat with the document.\n",
        "qa_chain = RetrievalQA.from_chain_type(\n",
        "    llm=ChatOpenAI(temperature=0, model=\"gpt-4\"),\n",
        "    chain_type=\"stuff\",\n",
        "    retriever=retriever,\n",
        "    return_source_documents=True # source document which were used as source files\n",
        ")"
      ],
      "metadata": {
        "id": "tUaSv_dJUCPt"
      },
      "execution_count": 32,
      "outputs": []
    },
    {
      "cell_type": "code",
      "source": [
        "qa_chain.invoke(\"인터넷 상에서 개인정보침해를 당했어.\")"
      ],
      "metadata": {
        "colab": {
          "base_uri": "https://localhost:8080/"
        },
        "id": "CA8BB21UUI2E",
        "outputId": "8d0f82a6-339b-4850-df1a-8e6c86d9d799"
      },
      "execution_count": 33,
      "outputs": [
        {
          "output_type": "execute_result",
          "data": {
            "text/plain": [
              "{'query': '인터넷 상에서 개인정보침해를 당했어.',\n",
              " 'result': '그런 일이 있었다니 정말로 안타깝습니다. 인터넷 상에서 개인정보가 침해당한 경우, 개인정보 분쟁조정을 신청할 수 있습니다. 이를 위해선 해당 사건에 대한 자세한 사실을 정리하고, 이를 바탕으로 개인정보 보호법을 위반하였다는 주장을 세울 수 있어야 합니다. 또한, 손해배상 및 재발방지 조치를 요구할 수 있습니다. 이러한 과정이 복잡하거나 어려울 경우, 법률 전문가의 도움을 받는 것도 고려해보세요.',\n",
              " 'source_documents': [Document(page_content='외로 이용하여 개인정보 보호법을 위반하였다고 주장하며, 피신청인에게 손해배상 및 \\n재발방지 조치를 요구하는 내용으로 개인정보 분쟁조정을 신청하였다. \\n   \\n     이에 대해 피신청인은 ① 신청인이 제보메일에서 스스로를 마스크 검사를 의뢰했던  \\n‘업체’라고 소개하고 있어 당시에는 개인정보로 인식하지 못한 상태로 제보내용의 \\n진위여부 확인차원에서 신청인의 이메일 주소를 인터넷 검색 사이트에서 단순검색한 \\n것에 불과하며, ② 신청인의 이메일 주소가 인터넷 쇼핑몰에 판매자 정보로 공개되어 \\n있었던 점 등을 고려할 때, 피신청인의 이 사건 이용행위는 「개인정보 보호법」 제15조 \\n제3항에 따른 개인정보의 추가 이용에 해당하므로, 개인정보 보호법 위반사항이 \\n없다고 주장한다.', metadata={'page': 62, 'source': '/content/drive/MyDrive/프로젝트/정책학회/data/2022.pdf'}),\n",
              "  Document(page_content='개인정보가 제3자에게 실제 열람되거나 접근되지 아니한 상태라면, 정보통신서비스 \\n제공자의 기술적ㆍ관리적 보호조치에 미흡한 점이 있어서 제3자가 인터넷상 특정 \\n사이트를 통해 정보통신서비스 제공자가 보관하고 있는 개인정보에 접근할 수 \\n있는 상태에 놓여 있었다고 하더라도 그것만으로 바로 개인정보가 정보통신서비스 \\n제공자의 관리ㆍ통제권을 벗어나 제3자가 내용을 알 수 있는 상태에 이르게 되었다고 \\n할 수는 없다고 판시하였다(대법원 2014. 5. 16. 선고, 2011다24555 판결).\\n     즉,‘개인정보의 유출’이란 개인정보가 해당 개인정보처리자의 관리ㆍ통제권을 \\n벗어나 당해 개인정보를 모르는 제3자가 그 내용을 알 수 있는 상태에 이르게 된 것을 \\n의미한다고 볼 수 있다.\\n     이 사건 팝업창에 표시되었다고 주장되는 신청인의 주민등록번호는 신청인이 직접 \\n금융인증서를 통해 이 사건 앱에 로그인한 후 신청인의 개인 스마트폰에 나타난 \\n것으로, 이러한 사실만으로는 피신청인이 신청인의 개인정보에 대해 통제를 상실', metadata={'page': 110, 'source': '/content/drive/MyDrive/프로젝트/정책학회/data/2022.pdf'}),\n",
              "  Document(page_content='2022\\t\\n개인정보\\t분쟁조정\\t사례집\\n158\\n이벤트에 참여하면서 제공한 개인정보가 인터넷에 노출된 것에 \\n대한 손해배상 등 요구Ⅳ. 개인정보보호 기술적·관리적·물리적 조치 미비\\n사례\\nⅣ-3\\n1. 사건개요\\n      피신청인은 가전제품 유통업을 영위하는 회사이며, 신청인은 피신청인이 진행한 \\n이벤트에 참여한 자이다.\\n      신청인은 자신의 개인정보가 노출된 상태로 게시판에 남아 있는다는 사실을 알게 \\n되자, 피신청인에게 손해배상 등을 요구하였다.\\n      피신청인은 노출된 개인정보를 신속히 삭제하였고, 신청인이 이벤트 참여 시 홈페  \\n이지의 등록게시판이 아닌 Q&A게시판에 글을 올린 점 등의 과실이 있어 손해배상은 \\n부담할 수 없다고 답변하였다.\\n      신청인은 자신의 성명·전자우편 등을 인터넷에 노출한 것에 대하여 손해배상 등을 \\n요구하는 분쟁조정을 신청하였다. \\n2. 합의결과\\n      피신청인이 개인정보 노출에 대하여 합의금을 지급하는 것으로 합의를 제안하였고, \\n신청인이 이를 받아들여 조정 전 합의로 사건을 종결하였다.', metadata={'page': 163, 'source': '/content/drive/MyDrive/프로젝트/정책학회/data/2022.pdf'})]}"
            ]
          },
          "metadata": {},
          "execution_count": 33
        }
      ]
    },
    {
      "cell_type": "code",
      "source": [
        "# Adding additional documents to vector store\n",
        "# Load a PDF file, using the LangChain PyPDF loader\n",
        "loader = PyPDFLoader(\"/content/drive/MyDrive/프로젝트/정책학회/data/2021.pdf\")\n",
        "\n",
        "# Split the text in chunks, using LangChain Recursive Character Text Splitter\n",
        "pages_new = loader.load_and_split(text_splitter)\n",
        "\n",
        "# Add additional documents to vector store\n",
        "_ = vector_index.add_documents(pages_new)\n",
        "\n",
        "# Create a persistent, file-based vector store, using Chroma vector store.\n",
        "vector_index.persist()"
      ],
      "metadata": {
        "id": "LCM3m6uAUX8t"
      },
      "execution_count": 34,
      "outputs": []
    },
    {
      "cell_type": "code",
      "source": [
        "qa_chain.invoke(\"인터넷 상에서 개인정보침해를 당했어.\")"
      ],
      "metadata": {
        "colab": {
          "base_uri": "https://localhost:8080/"
        },
        "id": "ai5O2hX0VNok",
        "outputId": "484af09a-251a-4300-f183-0928ff9a78ec"
      },
      "execution_count": 35,
      "outputs": [
        {
          "output_type": "execute_result",
          "data": {
            "text/plain": [
              "{'query': '인터넷 상에서 개인정보침해를 당했어.',\n",
              " 'result': '그런 일이 있었다니 정말로 안타깝습니다. 이런 경우에는 개인정보 침해 사실을 확인하고, 해당 사이트 운영자나 관련 기관에 신고하는 것이 중요합니다. 또한, 개인정보 분쟁조정위원회에 분쟁조정을 신청할 수도 있습니다. 이 과정에서 필요한 정보나 도움이 필요하시다면 언제든지 말씀해주세요.',\n",
              " 'source_documents': [Document(page_content='외로 이용하여 개인정보 보호법을 위반하였다고 주장하며, 피신청인에게 손해배상 및 \\n재발방지 조치를 요구하는 내용으로 개인정보 분쟁조정을 신청하였다. \\n   \\n     이에 대해 피신청인은 ① 신청인이 제보메일에서 스스로를 마스크 검사를 의뢰했던  \\n‘업체’라고 소개하고 있어 당시에는 개인정보로 인식하지 못한 상태로 제보내용의 \\n진위여부 확인차원에서 신청인의 이메일 주소를 인터넷 검색 사이트에서 단순검색한 \\n것에 불과하며, ② 신청인의 이메일 주소가 인터넷 쇼핑몰에 판매자 정보로 공개되어 \\n있었던 점 등을 고려할 때, 피신청인의 이 사건 이용행위는 「개인정보 보호법」 제15조 \\n제3항에 따른 개인정보의 추가 이용에 해당하므로, 개인정보 보호법 위반사항이 \\n없다고 주장한다.', metadata={'page': 62, 'source': '/content/drive/MyDrive/프로젝트/정책학회/data/2022.pdf'}),\n",
              "  Document(page_content='개인정보가 제3자에게 실제 열람되거나 접근되지 아니한 상태라면, 정보통신서비스 \\n제공자의 기술적ㆍ관리적 보호조치에 미흡한 점이 있어서 제3자가 인터넷상 특정 \\n사이트를 통해 정보통신서비스 제공자가 보관하고 있는 개인정보에 접근할 수 \\n있는 상태에 놓여 있었다고 하더라도 그것만으로 바로 개인정보가 정보통신서비스 \\n제공자의 관리ㆍ통제권을 벗어나 제3자가 내용을 알 수 있는 상태에 이르게 되었다고 \\n할 수는 없다고 판시하였다(대법원 2014. 5. 16. 선고, 2011다24555 판결).\\n     즉,‘개인정보의 유출’이란 개인정보가 해당 개인정보처리자의 관리ㆍ통제권을 \\n벗어나 당해 개인정보를 모르는 제3자가 그 내용을 알 수 있는 상태에 이르게 된 것을 \\n의미한다고 볼 수 있다.\\n     이 사건 팝업창에 표시되었다고 주장되는 신청인의 주민등록번호는 신청인이 직접 \\n금융인증서를 통해 이 사건 앱에 로그인한 후 신청인의 개인 스마트폰에 나타난 \\n것으로, 이러한 사실만으로는 피신청인이 신청인의 개인정보에 대해 통제를 상실', metadata={'page': 110, 'source': '/content/drive/MyDrive/프로젝트/정책학회/data/2022.pdf'}),\n",
              "  Document(page_content='2021  \\n개인정보\\t분쟁조정\\t사례집\\n178\\n개인정보 유출에 따른 손해배상 등 요구Ⅶ. 기타 개인정보 침해\\n사례\\nⅦ-2\\n1. 사건개요\\n      피신청인은 온라인 쇼핑몰을 운영하는 부가통신사업자이고, 신청인은 피신청인 쇼핑\\n몰 가입 회원이다.\\n      직장동료인 신청인의 지인이 피신청인의 온라인 쇼핑몰에서 상품을 주문하였는데, \\n해당 건의 주문 확인 메일과 상품발송 안내 메일이 지인이 아닌 신청인의 이메일 주\\n소로 발송되었다.\\n      신청인은 피신청인의 시스템에서 신청인의 개인정보가 유출되어 지인의 개인정보와 \\n신청인의 이메일 주소가 혼재되었다고 판단, 피신청인을 상대로 개인정보 유출에 대\\n한 손해배상 등을 요구하는 분쟁조정을 신청하였다.\\n      한편, 신청인은 이 사건 분쟁조정 신청 이후에 피신청인에게 상담 신청을 한 일이 없음\\n에도 피신청인으로부터 메신저 어플로 ‘상담사 평가하기’라는 알림톡을 수신하였다.\\n      이에 신청인은 휴대 전화번호의 개인정보 유출을 의심하여 분쟁조정위에 피신청인에 \\n대하여 위 알림톡 발송에 대한 손해배상 등을 요구하는 내용을 추가로 신청하였다.\\n2. 합의결과\\n      피신청인은 DB 조회 결과 지인이 피신청인의 온라인 쇼핑몰에 최초 가입한 때부터 \\n신청인의 이메일 주소가 지인에 의해 개인정보로 등록된 것으로 나왔고, 신청인이 이\\n를 반박할 수 있는 추가자료를 제출하지 못하여 피신청인의 개인정보 유출을 인정하\\n지 않았다.', metadata={'page': 183, 'source': '/content/drive/MyDrive/프로젝트/정책학회/data/2021.pdf'})]}"
            ]
          },
          "metadata": {},
          "execution_count": 35
        }
      ]
    },
    {
      "cell_type": "code",
      "source": [
        "## Adding memory to conversations\n",
        "# Instead of the RetrievalQA chain, we'll use the ConversationalRetrievalChain.\n",
        "# ConversationalRetrievalChain allows to seamlessly add historical context or memory to chain.\n",
        "conv_chain = ConversationalRetrievalChain.from_llm(\n",
        "    ChatOpenAI(temperature=0, model=\"gpt-4\"),\n",
        "    retriever=retriever,\n",
        ")"
      ],
      "metadata": {
        "id": "8Qzq7A8oVVIY"
      },
      "execution_count": 37,
      "outputs": []
    },
    {
      "cell_type": "code",
      "source": [
        "# Initialize our chat history.\n",
        "chat_history = []\n",
        "query = \"인터넷 상에서 개인정보침해를 당했어.\"\n",
        "result = conv_chain.invoke({\"question\": query, \"chat_history\": chat_history})\n",
        "\n",
        "print(result[\"answer\"])"
      ],
      "metadata": {
        "colab": {
          "base_uri": "https://localhost:8080/"
        },
        "id": "vFuBsRdZVYi1",
        "outputId": "8486af7f-eb6f-4dec-eb95-eeb691e96869"
      },
      "execution_count": 38,
      "outputs": [
        {
          "output_type": "stream",
          "name": "stdout",
          "text": [
            "그런 일이 있었다니 정말로 안타깝습니다. 어떤 상황인지 좀 더 자세히 설명해주실 수 있나요? 그리고 이에 대해 어떤 조치를 취하고 싶으신지도 알려주시면 도움을 드리는 데에 더 도움이 될 것 같습니다.\n"
          ]
        }
      ]
    },
    {
      "cell_type": "code",
      "source": [
        "chat_history.append((query, result[\"answer\"]))"
      ],
      "metadata": {
        "id": "FUr1JjT4VfQy"
      },
      "execution_count": 39,
      "outputs": []
    },
    {
      "cell_type": "code",
      "source": [
        "query = \"더 요약해서 말해줘\"\n",
        "result = conv_chain.invoke({\"question\": query, \"chat_history\": chat_history})\n",
        "\n",
        "print(result[\"answer\"])"
      ],
      "metadata": {
        "colab": {
          "base_uri": "https://localhost:8080/"
        },
        "id": "N3dJoXusVis3",
        "outputId": "13a5d493-6305-40e9-813a-e989ed66e56a"
      },
      "execution_count": 41,
      "outputs": [
        {
          "output_type": "stream",
          "name": "stdout",
          "text": [
            "분쟁조정을 신청하려면, 첨부파일은 재생 가능한 형식이나 이미지 파일(JPG, GIF 등)로 첨부해야 합니다. 신청서 작성 시 분량 제한은 없지만, 사건 개요를 상세히 기재하는 것이 좋습니다. 분쟁조정을 신청하면, 개인정보 보호법에 따라 상대방에게 신청 내용이 알려지며, 이에는 신청인의 성명, 연락처 등이 포함됩니다. 신청서 접수 후, 분쟁조정위원회는 신청 요건을 검토하고, 요건을 충족하면 상대방에게 신청 내용을 전달합니다. 조정 전 합의를 권고할 수 있으며, 합의에 이르지 못하면 사실조사 및 전문가 자문을 거쳐 조정안을 작성하고 제시합니다.\n"
          ]
        }
      ]
    },
    {
      "cell_type": "code",
      "source": [
        "chat_history.append((query, result[\"answer\"]))\n",
        "\n",
        "\n",
        "chat_history"
      ],
      "metadata": {
        "colab": {
          "base_uri": "https://localhost:8080/"
        },
        "id": "GHnB0meHVm-U",
        "outputId": "1b79ef0e-752b-4c25-a005-b8576d78eda1"
      },
      "execution_count": 42,
      "outputs": [
        {
          "output_type": "execute_result",
          "data": {
            "text/plain": [
              "[('인터넷 상에서 개인정보침해를 당했어.',\n",
              "  '그런 일이 있었다니 정말로 안타깝습니다. 어떤 상황인지 좀 더 자세히 설명해주실 수 있나요? 그리고 이에 대해 어떤 조치를 취하고 싶으신지도 알려주시면 도움을 드리는 데에 더 도움이 될 것 같습니다.'),\n",
              " ('더 요약해서 말해줘',\n",
              "  '분쟁조정을 신청하려면, 첨부파일은 재생 가능한 형식이나 이미지 파일(JPG, GIF 등)로 첨부해야 합니다. 신청서 작성 시 분량 제한은 없지만, 사건 개요를 상세히 기재하는 것이 좋습니다. 분쟁조정을 신청하면, 개인정보 보호법에 따라 상대방에게 신청 내용이 알려지며, 이에는 신청인의 성명, 연락처 등이 포함됩니다. 신청서 접수 후, 분쟁조정위원회는 신청 요건을 검토하고, 요건을 충족하면 상대방에게 신청 내용을 전달합니다. 조정 전 합의를 권고할 수 있으며, 합의에 이르지 못하면 사실조사 및 전문가 자문을 거쳐 조정안을 작성하고 제시합니다.')]"
            ]
          },
          "metadata": {},
          "execution_count": 42
        }
      ]
    },
    {
      "cell_type": "code",
      "source": [],
      "metadata": {
        "id": "hcvh9V2IVtwy"
      },
      "execution_count": null,
      "outputs": []
    }
  ]
}